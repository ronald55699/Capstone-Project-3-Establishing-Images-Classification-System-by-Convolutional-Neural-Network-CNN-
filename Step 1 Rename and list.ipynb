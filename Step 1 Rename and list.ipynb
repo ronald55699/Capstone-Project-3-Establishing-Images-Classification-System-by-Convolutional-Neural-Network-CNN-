{
 "cells": [
  {
   "cell_type": "markdown",
   "metadata": {},
   "source": [
    "## Step 1 Rename and list"
   ]
  },
  {
   "cell_type": "code",
   "execution_count": 9,
   "metadata": {},
   "outputs": [],
   "source": [
    "from os import listdir\n",
    "import numpy as np\n",
    "import os\n",
    "import re\n",
    "import pandas as pd"
   ]
  },
  {
   "cell_type": "code",
   "execution_count": 10,
   "metadata": {},
   "outputs": [
    {
     "name": "stdout",
     "output_type": "stream",
     "text": [
      "C:\\Users\\user\\Desktop\\Data Science Course\\Capstone 3\n"
     ]
    }
   ],
   "source": [
    "current_path = os.getcwd()\n",
    "print(current_path)"
   ]
  },
  {
   "cell_type": "code",
   "execution_count": 11,
   "metadata": {},
   "outputs": [
    {
     "name": "stdout",
     "output_type": "stream",
     "text": [
      "C:\\Users\\user\\Desktop\\Data Science Course\\Capstone 3\\Data\\images\\Images\\\n"
     ]
    }
   ],
   "source": [
    "races_path = current_path+\"\\Data\\images\\Images\\\\\"\n",
    "print(races_path)"
   ]
  },
  {
   "cell_type": "code",
   "execution_count": 12,
   "metadata": {},
   "outputs": [
    {
     "name": "stdout",
     "output_type": "stream",
     "text": [
      "['affenpinscher', 'airedale', 'appenzeller', 'basenji', 'beagle', 'bernese_mountain_dog', 'blenheim_spaniel', 'border_collie', 'boston_bull', 'brittany_spaniel', 'cairn', 'chihuahua', 'clumber', 'collie', 'labrador_retriever', 'maltese_dog', 'norfolk_terrier', 'pomeranian', 'rottweiler', 'shih_tzu']\n"
     ]
    }
   ],
   "source": [
    "L_directories = listdir(races_path)\n",
    "print(L_directories)"
   ]
  },
  {
   "cell_type": "code",
   "execution_count": 13,
   "metadata": {},
   "outputs": [],
   "source": [
    "\n",
    "# renaming the folders:\n",
    "for directory in L_directories:\n",
    "    clean_name = re.sub('^n\\d{8}[_-]','',directory)\n",
    "    clean_name = re.sub('-','_',clean_name)\n",
    "    clean_name = str.lower(clean_name)\n",
    "    os.rename(races_path+directory,races_path+clean_name)"
   ]
  },
  {
   "cell_type": "code",
   "execution_count": 14,
   "metadata": {},
   "outputs": [
    {
     "name": "stdout",
     "output_type": "stream",
     "text": [
      "['affenpinscher', 'airedale', 'appenzeller', 'basenji', 'beagle', 'bernese_mountain_dog', 'blenheim_spaniel', 'border_collie', 'boston_bull', 'brittany_spaniel', 'cairn', 'chihuahua', 'clumber', 'collie', 'labrador_retriever', 'maltese_dog', 'norfolk_terrier', 'pomeranian', 'rottweiler', 'shih_tzu']\n"
     ]
    }
   ],
   "source": [
    "L_directories = listdir(races_path)\n",
    "print(L_directories)"
   ]
  },
  {
   "cell_type": "code",
   "execution_count": 15,
   "metadata": {},
   "outputs": [],
   "source": [
    "races = []\n",
    "\n",
    "for race in L_directories:\n",
    "    all_dogs = os.listdir(races_path+ race)\n",
    "    for dog in all_dogs:\n",
    "        races.append((race,dog))"
   ]
  },
  {
   "cell_type": "code",
   "execution_count": 16,
   "metadata": {},
   "outputs": [],
   "source": [
    "df = pd.DataFrame(data = races,columns=['race','image'] )"
   ]
  },
  {
   "cell_type": "code",
   "execution_count": 17,
   "metadata": {},
   "outputs": [],
   "source": [
    "df.to_csv('list.csv')"
   ]
  },
  {
   "cell_type": "code",
   "execution_count": null,
   "metadata": {},
   "outputs": [],
   "source": []
  }
 ],
 "metadata": {
  "kernelspec": {
   "display_name": "Python 3",
   "language": "python",
   "name": "python3"
  },
  "language_info": {
   "codemirror_mode": {
    "name": "ipython",
    "version": 3
   },
   "file_extension": ".py",
   "mimetype": "text/x-python",
   "name": "python",
   "nbconvert_exporter": "python",
   "pygments_lexer": "ipython3",
   "version": "3.8.3"
  }
 },
 "nbformat": 4,
 "nbformat_minor": 4
}
